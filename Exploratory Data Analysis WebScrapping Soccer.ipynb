{
 "cells": [
  {
   "cell_type": "markdown",
   "metadata": {},
   "source": [
    "## What is Exploratory Data Analysis?"
   ]
  },
  {
   "cell_type": "markdown",
   "metadata": {},
   "source": [
    "Exploratory Data Analysis or (EDA) is understanding the data sets by summarizing their main characteristics often plotting them visually. This step is very important especially when we arrive at modeling the data in order to apply Machine learning. Plotting in EDA consists of Histograms, Box plot, Scatter plot and many more. It often takes much time to explore the data. Through the process of EDA, we can ask to define the problem statement or definition on our data set which is very important."
   ]
  },
  {
   "cell_type": "markdown",
   "metadata": {},
   "source": [
    "## How to perform Exploratory Data Analysis?"
   ]
  },
  {
   "cell_type": "markdown",
   "metadata": {},
   "source": "This is one such question that everyone is keen on knowing the answer. Well, the answer is it depends on the data set that you are working."
  },
  {
   "cell_type": "markdown",
   "metadata": {},
   "source": [
    "## What data are we exploring today?"
   ]
  },
  {
   "cell_type": "markdown",
   "metadata": {},
   "source": "The dataset I will be using is a football match dataset between Arsenal and Man City. The data-set was scrapped from . To give a piece of brief information about the data set this data contains 199 rows and 9 columns which contains features of the Matches such as Date, League, Home Team, Score, Away Team, Home Score, Away Score  and many more. So in this tutorial, we will explore the data and get some insight from the data."
  },
  {
   "cell_type": "markdown",
   "metadata": {},
   "source": [
    "## Let's get started !!!"
   ]
  },
  {
   "cell_type": "markdown",
   "metadata": {},
   "source": [
    "### Importing python libraries"
   ]
  },
  {
   "cell_type": "code",
   "metadata": {
    "ExecuteTime": {
     "end_time": "2024-11-04T18:22:12.000797Z",
     "start_time": "2024-11-04T18:22:11.994450Z"
    }
   },
   "source": [
    "import numpy as np\n",
    "import pandas as pd\n",
    "import seaborn as sns\n",
    "import matplotlib.pyplot as plt\n",
    "%matplotlib inline"
   ],
   "outputs": [],
   "execution_count": 4
  },
  {
   "cell_type": "markdown",
   "metadata": {},
   "source": [
    "### Importing the data"
   ]
  },
  {
   "cell_type": "code",
   "metadata": {
    "ExecuteTime": {
     "end_time": "2024-11-04T18:22:55.982680Z",
     "start_time": "2024-11-04T18:22:55.955004Z"
    }
   },
   "source": [
    "# Read Excel file\n",
    "dataset = pd.read_csv('./Soccer_Data.csv')\n",
    "print(\"Shape of dataframe is: {}\".format(dataset.shape))"
   ],
   "outputs": [
    {
     "name": "stdout",
     "output_type": "stream",
     "text": [
      "Shape of dataframe is: (212, 9)\n"
     ]
    }
   ],
   "execution_count": 5
  },
  {
   "cell_type": "code",
   "metadata": {
    "ExecuteTime": {
     "end_time": "2024-11-04T18:22:57.274493Z",
     "start_time": "2024-11-04T18:22:57.268337Z"
    }
   },
   "source": [
    "# Make a copy of the original sourcefile\n",
    "df_Matches = dataset.copy()"
   ],
   "outputs": [],
   "execution_count": 6
  },
  {
   "cell_type": "markdown",
   "metadata": {},
   "source": [
    "### Data Description and Exploratory Visualisations"
   ]
  },
  {
   "cell_type": "code",
   "metadata": {
    "ExecuteTime": {
     "end_time": "2024-11-04T18:23:02.506733Z",
     "start_time": "2024-11-04T18:23:02.495563Z"
    }
   },
   "source": [
    "# Dataset columns \n",
    "df_Matches.columns"
   ],
   "outputs": [
    {
     "data": {
      "text/plain": [
       "Index(['Date_Time', 'League', 'Home_Team', 'Score', 'Away_Team', 'Home_Score',\n",
       "       'Away_Score', 'Home_Dummy_Score', 'Away_Dummy_Score'],\n",
       "      dtype='object')"
      ]
     },
     "execution_count": 7,
     "metadata": {},
     "output_type": "execute_result"
    }
   ],
   "execution_count": 7
  },
  {
   "cell_type": "code",
   "metadata": {
    "scrolled": true,
    "ExecuteTime": {
     "end_time": "2024-11-04T18:23:03.999555Z",
     "start_time": "2024-11-04T18:23:03.974527Z"
    }
   },
   "source": [
    "# Dataset header\n",
    "df_Matches.head()"
   ],
   "outputs": [
    {
     "data": {
      "text/plain": [
       "       Date_Time            League Home_Team Score Away_Team  Home_Score  \\\n",
       "0  Su 22Sep 2024   English Premier  Man City   2-2   Arsenal           2   \n",
       "1  Su 31Mar 2024    Premier League  Man City   0-0   Arsenal           0   \n",
       "2  Su 08Oct 2023    Premier League   Arsenal   1-0  Man City           1   \n",
       "3  Su 06Aug 2023  Community Shield   Arsenal   1-1  Man City           1   \n",
       "4  We 26Apr 2023    Premier League  Man City   4-1   Arsenal           4   \n",
       "\n",
       "   Away_Score  Home_Dummy_Score  Away_Dummy_Score  \n",
       "0           2                 1                 1  \n",
       "1           0                 1                 1  \n",
       "2           0                 1                 0  \n",
       "3           1                 1                 1  \n",
       "4           1                 1                 0  "
      ],
      "text/html": [
       "<div>\n",
       "<style scoped>\n",
       "    .dataframe tbody tr th:only-of-type {\n",
       "        vertical-align: middle;\n",
       "    }\n",
       "\n",
       "    .dataframe tbody tr th {\n",
       "        vertical-align: top;\n",
       "    }\n",
       "\n",
       "    .dataframe thead th {\n",
       "        text-align: right;\n",
       "    }\n",
       "</style>\n",
       "<table border=\"1\" class=\"dataframe\">\n",
       "  <thead>\n",
       "    <tr style=\"text-align: right;\">\n",
       "      <th></th>\n",
       "      <th>Date_Time</th>\n",
       "      <th>League</th>\n",
       "      <th>Home_Team</th>\n",
       "      <th>Score</th>\n",
       "      <th>Away_Team</th>\n",
       "      <th>Home_Score</th>\n",
       "      <th>Away_Score</th>\n",
       "      <th>Home_Dummy_Score</th>\n",
       "      <th>Away_Dummy_Score</th>\n",
       "    </tr>\n",
       "  </thead>\n",
       "  <tbody>\n",
       "    <tr>\n",
       "      <th>0</th>\n",
       "      <td>Su 22Sep 2024</td>\n",
       "      <td>English Premier</td>\n",
       "      <td>Man City</td>\n",
       "      <td>2-2</td>\n",
       "      <td>Arsenal</td>\n",
       "      <td>2</td>\n",
       "      <td>2</td>\n",
       "      <td>1</td>\n",
       "      <td>1</td>\n",
       "    </tr>\n",
       "    <tr>\n",
       "      <th>1</th>\n",
       "      <td>Su 31Mar 2024</td>\n",
       "      <td>Premier League</td>\n",
       "      <td>Man City</td>\n",
       "      <td>0-0</td>\n",
       "      <td>Arsenal</td>\n",
       "      <td>0</td>\n",
       "      <td>0</td>\n",
       "      <td>1</td>\n",
       "      <td>1</td>\n",
       "    </tr>\n",
       "    <tr>\n",
       "      <th>2</th>\n",
       "      <td>Su 08Oct 2023</td>\n",
       "      <td>Premier League</td>\n",
       "      <td>Arsenal</td>\n",
       "      <td>1-0</td>\n",
       "      <td>Man City</td>\n",
       "      <td>1</td>\n",
       "      <td>0</td>\n",
       "      <td>1</td>\n",
       "      <td>0</td>\n",
       "    </tr>\n",
       "    <tr>\n",
       "      <th>3</th>\n",
       "      <td>Su 06Aug 2023</td>\n",
       "      <td>Community Shield</td>\n",
       "      <td>Arsenal</td>\n",
       "      <td>1-1</td>\n",
       "      <td>Man City</td>\n",
       "      <td>1</td>\n",
       "      <td>1</td>\n",
       "      <td>1</td>\n",
       "      <td>1</td>\n",
       "    </tr>\n",
       "    <tr>\n",
       "      <th>4</th>\n",
       "      <td>We 26Apr 2023</td>\n",
       "      <td>Premier League</td>\n",
       "      <td>Man City</td>\n",
       "      <td>4-1</td>\n",
       "      <td>Arsenal</td>\n",
       "      <td>4</td>\n",
       "      <td>1</td>\n",
       "      <td>1</td>\n",
       "      <td>0</td>\n",
       "    </tr>\n",
       "  </tbody>\n",
       "</table>\n",
       "</div>"
      ]
     },
     "execution_count": 8,
     "metadata": {},
     "output_type": "execute_result"
    }
   ],
   "execution_count": 8
  },
  {
   "cell_type": "code",
   "metadata": {
    "scrolled": true,
    "ExecuteTime": {
     "end_time": "2024-11-04T18:23:05.882921Z",
     "start_time": "2024-11-04T18:23:05.865506Z"
    }
   },
   "source": [
    "# Dataset footer\n",
    "df_Matches.tail()"
   ],
   "outputs": [
    {
     "data": {
      "text/plain": [
       "         Date_Time               League Home_Team Score Away_Team  Home_Score  \\\n",
       "207  Sa 07Sep 1895  English Div 2 (old)   Arsenal   0-1  Man City           0   \n",
       "208  Sa 15Dec 1894  English Div 2 (old)  Man City   4-1   Arsenal           4   \n",
       "209  Sa 29Sep 1894  English Div 2 (old)   Arsenal   4-2  Man City           4   \n",
       "210  Sa 30Dec 1893  English Div 2 (old)  Man City   0-1   Arsenal           0   \n",
       "211  Sa 11Nov 1893  English Div 2 (old)   Arsenal   1-0  Man City           1   \n",
       "\n",
       "     Away_Score  Home_Dummy_Score  Away_Dummy_Score  \n",
       "207           1                 0                 1  \n",
       "208           1                 1                 0  \n",
       "209           2                 1                 0  \n",
       "210           1                 0                 1  \n",
       "211           0                 1                 0  "
      ],
      "text/html": [
       "<div>\n",
       "<style scoped>\n",
       "    .dataframe tbody tr th:only-of-type {\n",
       "        vertical-align: middle;\n",
       "    }\n",
       "\n",
       "    .dataframe tbody tr th {\n",
       "        vertical-align: top;\n",
       "    }\n",
       "\n",
       "    .dataframe thead th {\n",
       "        text-align: right;\n",
       "    }\n",
       "</style>\n",
       "<table border=\"1\" class=\"dataframe\">\n",
       "  <thead>\n",
       "    <tr style=\"text-align: right;\">\n",
       "      <th></th>\n",
       "      <th>Date_Time</th>\n",
       "      <th>League</th>\n",
       "      <th>Home_Team</th>\n",
       "      <th>Score</th>\n",
       "      <th>Away_Team</th>\n",
       "      <th>Home_Score</th>\n",
       "      <th>Away_Score</th>\n",
       "      <th>Home_Dummy_Score</th>\n",
       "      <th>Away_Dummy_Score</th>\n",
       "    </tr>\n",
       "  </thead>\n",
       "  <tbody>\n",
       "    <tr>\n",
       "      <th>207</th>\n",
       "      <td>Sa 07Sep 1895</td>\n",
       "      <td>English Div 2 (old)</td>\n",
       "      <td>Arsenal</td>\n",
       "      <td>0-1</td>\n",
       "      <td>Man City</td>\n",
       "      <td>0</td>\n",
       "      <td>1</td>\n",
       "      <td>0</td>\n",
       "      <td>1</td>\n",
       "    </tr>\n",
       "    <tr>\n",
       "      <th>208</th>\n",
       "      <td>Sa 15Dec 1894</td>\n",
       "      <td>English Div 2 (old)</td>\n",
       "      <td>Man City</td>\n",
       "      <td>4-1</td>\n",
       "      <td>Arsenal</td>\n",
       "      <td>4</td>\n",
       "      <td>1</td>\n",
       "      <td>1</td>\n",
       "      <td>0</td>\n",
       "    </tr>\n",
       "    <tr>\n",
       "      <th>209</th>\n",
       "      <td>Sa 29Sep 1894</td>\n",
       "      <td>English Div 2 (old)</td>\n",
       "      <td>Arsenal</td>\n",
       "      <td>4-2</td>\n",
       "      <td>Man City</td>\n",
       "      <td>4</td>\n",
       "      <td>2</td>\n",
       "      <td>1</td>\n",
       "      <td>0</td>\n",
       "    </tr>\n",
       "    <tr>\n",
       "      <th>210</th>\n",
       "      <td>Sa 30Dec 1893</td>\n",
       "      <td>English Div 2 (old)</td>\n",
       "      <td>Man City</td>\n",
       "      <td>0-1</td>\n",
       "      <td>Arsenal</td>\n",
       "      <td>0</td>\n",
       "      <td>1</td>\n",
       "      <td>0</td>\n",
       "      <td>1</td>\n",
       "    </tr>\n",
       "    <tr>\n",
       "      <th>211</th>\n",
       "      <td>Sa 11Nov 1893</td>\n",
       "      <td>English Div 2 (old)</td>\n",
       "      <td>Arsenal</td>\n",
       "      <td>1-0</td>\n",
       "      <td>Man City</td>\n",
       "      <td>1</td>\n",
       "      <td>0</td>\n",
       "      <td>1</td>\n",
       "      <td>0</td>\n",
       "    </tr>\n",
       "  </tbody>\n",
       "</table>\n",
       "</div>"
      ]
     },
     "execution_count": 9,
     "metadata": {},
     "output_type": "execute_result"
    }
   ],
   "execution_count": 9
  },
  {
   "cell_type": "markdown",
   "metadata": {},
   "source": [
    "> The dataset contains several numerical and categorical columns providing various information on the matches played between Arsenal and Man City."
   ]
  },
  {
   "cell_type": "code",
   "metadata": {
    "scrolled": true,
    "ExecuteTime": {
     "end_time": "2024-11-04T18:23:08.662485Z",
     "start_time": "2024-11-04T18:23:08.637662Z"
    }
   },
   "source": [
    "# Columns datatypes and missign values\n",
    "df_Matches.info()"
   ],
   "outputs": [
    {
     "name": "stdout",
     "output_type": "stream",
     "text": [
      "<class 'pandas.core.frame.DataFrame'>\n",
      "RangeIndex: 212 entries, 0 to 211\n",
      "Data columns (total 9 columns):\n",
      " #   Column            Non-Null Count  Dtype \n",
      "---  ------            --------------  ----- \n",
      " 0   Date_Time         212 non-null    object\n",
      " 1   League            212 non-null    object\n",
      " 2   Home_Team         212 non-null    object\n",
      " 3   Score             212 non-null    object\n",
      " 4   Away_Team         212 non-null    object\n",
      " 5   Home_Score        212 non-null    int64 \n",
      " 6   Away_Score        212 non-null    int64 \n",
      " 7   Home_Dummy_Score  212 non-null    int64 \n",
      " 8   Away_Dummy_Score  212 non-null    int64 \n",
      "dtypes: int64(4), object(5)\n",
      "memory usage: 15.0+ KB\n"
     ]
    }
   ],
   "execution_count": 10
  },
  {
   "cell_type": "markdown",
   "metadata": {},
   "source": [
    "> The data provided has no missing values."
   ]
  },
  {
   "cell_type": "code",
   "metadata": {
    "ExecuteTime": {
     "end_time": "2024-11-04T18:23:10.687671Z",
     "start_time": "2024-11-04T18:23:10.672128Z"
    }
   },
   "source": [
    "# Check for duplicate rows\n",
    "duplicate_rows_df = df_Matches[df_Matches.duplicated()]\n",
    "print('the number of duplicate rows: ', duplicate_rows_df.shape[0])"
   ],
   "outputs": [
    {
     "name": "stdout",
     "output_type": "stream",
     "text": [
      "the number of duplicate rows:  0\n"
     ]
    }
   ],
   "execution_count": 11
  },
  {
   "cell_type": "markdown",
   "metadata": {},
   "source": [
    "> The data provided has no duplicate rows."
   ]
  },
  {
   "cell_type": "markdown",
   "metadata": {},
   "source": [
    "### Numerical features overview"
   ]
  },
  {
   "cell_type": "code",
   "metadata": {
    "ExecuteTime": {
     "end_time": "2024-11-04T18:23:17.701546Z",
     "start_time": "2024-11-04T18:23:17.674339Z"
    }
   },
   "source": [
    "df_Matches.describe()"
   ],
   "outputs": [
    {
     "data": {
      "text/plain": [
       "       Home_Score  Away_Score  Home_Dummy_Score  Away_Dummy_Score\n",
       "count  212.000000  212.000000        212.000000        212.000000\n",
       "mean     1.613208    1.179245          0.707547          0.518868\n",
       "std      1.346019    1.186793          0.455966          0.500826\n",
       "min      0.000000    0.000000          0.000000          0.000000\n",
       "25%      1.000000    0.000000          0.000000          0.000000\n",
       "50%      1.000000    1.000000          1.000000          1.000000\n",
       "75%      2.000000    2.000000          1.000000          1.000000\n",
       "max      7.000000    5.000000          1.000000          1.000000"
      ],
      "text/html": [
       "<div>\n",
       "<style scoped>\n",
       "    .dataframe tbody tr th:only-of-type {\n",
       "        vertical-align: middle;\n",
       "    }\n",
       "\n",
       "    .dataframe tbody tr th {\n",
       "        vertical-align: top;\n",
       "    }\n",
       "\n",
       "    .dataframe thead th {\n",
       "        text-align: right;\n",
       "    }\n",
       "</style>\n",
       "<table border=\"1\" class=\"dataframe\">\n",
       "  <thead>\n",
       "    <tr style=\"text-align: right;\">\n",
       "      <th></th>\n",
       "      <th>Home_Score</th>\n",
       "      <th>Away_Score</th>\n",
       "      <th>Home_Dummy_Score</th>\n",
       "      <th>Away_Dummy_Score</th>\n",
       "    </tr>\n",
       "  </thead>\n",
       "  <tbody>\n",
       "    <tr>\n",
       "      <th>count</th>\n",
       "      <td>212.000000</td>\n",
       "      <td>212.000000</td>\n",
       "      <td>212.000000</td>\n",
       "      <td>212.000000</td>\n",
       "    </tr>\n",
       "    <tr>\n",
       "      <th>mean</th>\n",
       "      <td>1.613208</td>\n",
       "      <td>1.179245</td>\n",
       "      <td>0.707547</td>\n",
       "      <td>0.518868</td>\n",
       "    </tr>\n",
       "    <tr>\n",
       "      <th>std</th>\n",
       "      <td>1.346019</td>\n",
       "      <td>1.186793</td>\n",
       "      <td>0.455966</td>\n",
       "      <td>0.500826</td>\n",
       "    </tr>\n",
       "    <tr>\n",
       "      <th>min</th>\n",
       "      <td>0.000000</td>\n",
       "      <td>0.000000</td>\n",
       "      <td>0.000000</td>\n",
       "      <td>0.000000</td>\n",
       "    </tr>\n",
       "    <tr>\n",
       "      <th>25%</th>\n",
       "      <td>1.000000</td>\n",
       "      <td>0.000000</td>\n",
       "      <td>0.000000</td>\n",
       "      <td>0.000000</td>\n",
       "    </tr>\n",
       "    <tr>\n",
       "      <th>50%</th>\n",
       "      <td>1.000000</td>\n",
       "      <td>1.000000</td>\n",
       "      <td>1.000000</td>\n",
       "      <td>1.000000</td>\n",
       "    </tr>\n",
       "    <tr>\n",
       "      <th>75%</th>\n",
       "      <td>2.000000</td>\n",
       "      <td>2.000000</td>\n",
       "      <td>1.000000</td>\n",
       "      <td>1.000000</td>\n",
       "    </tr>\n",
       "    <tr>\n",
       "      <th>max</th>\n",
       "      <td>7.000000</td>\n",
       "      <td>5.000000</td>\n",
       "      <td>1.000000</td>\n",
       "      <td>1.000000</td>\n",
       "    </tr>\n",
       "  </tbody>\n",
       "</table>\n",
       "</div>"
      ]
     },
     "execution_count": 12,
     "metadata": {},
     "output_type": "execute_result"
    }
   ],
   "execution_count": 12
  },
  {
   "cell_type": "code",
   "metadata": {
    "ExecuteTime": {
     "end_time": "2024-11-04T18:23:20.692020Z",
     "start_time": "2024-11-04T18:23:19.073179Z"
    }
   },
   "source": [
    "df_Matches.hist(figsize=(10,10))\n",
    "plt.show()"
   ],
   "outputs": [
    {
     "data": {
      "text/plain": [
       "<Figure size 1000x1000 with 4 Axes>"
      ],
      "image/png": "[encoded data removed]"
     },
     "metadata": {},
     "output_type": "display_data"
    }
   ],
   "execution_count": 13
  },
  {
   "cell_type": "markdown",
   "metadata": {},
   "source": [
    "> A few observations can be made based on the information and histograms for numerical features:\n",
    " - From Home Dummy score, we can observed that there is a high rate of win if the game is played at Home.\n",
    " - The One goal is common in most Matches played at Home.\n",
    " - Zero and One are the common goals scored in Matches played Away"
   ]
  },
  {
   "cell_type": "code",
   "metadata": {
    "ExecuteTime": {
     "end_time": "2024-11-04T18:23:24.170781Z",
     "start_time": "2024-11-04T18:23:24.156008Z"
    }
   },
   "source": [
    "# Types of Leagues played \n",
    "df_Matches['League'].value_counts()"
   ],
   "outputs": [
    {
     "data": {
      "text/plain": [
       "League\n",
       "English Div 1 (old)    124\n",
       "Premier League          34\n",
       "Premiership             20\n",
       "English Div 2 (old)     14\n",
       "English League Cup       5\n",
       "FA Cup                   3\n",
       "Carling Cup              3\n",
       "English FA Cup           3\n",
       "Community Shield         2\n",
       "EFL Cup                  2\n",
       "English Premier          1\n",
       "Charity Shield           1\n",
       "Name: count, dtype: int64"
      ]
     },
     "execution_count": 14,
     "metadata": {},
     "output_type": "execute_result"
    }
   ],
   "execution_count": 14
  },
  {
   "cell_type": "markdown",
   "metadata": {},
   "source": [
    "> We have English Div 1 (old), Premier League and Premiership which all means the same thing."
   ]
  },
  {
   "cell_type": "code",
   "metadata": {
    "ExecuteTime": {
     "end_time": "2024-11-04T18:23:26.143086Z",
     "start_time": "2024-11-04T18:23:26.127462Z"
    }
   },
   "source": [
    "#Replace English Div 1 and Premiership \n",
    "df_Matches['League'].replace({\"English Div 1 (old)\": \"Premier League\", \"Premiership\": \"Premier League\"},\n",
    "                             inplace=True)"
   ],
   "outputs": [],
   "execution_count": 15
  },
  {
   "cell_type": "code",
   "metadata": {
    "ExecuteTime": {
     "end_time": "2024-11-04T18:23:26.952979Z",
     "start_time": "2024-11-04T18:23:26.942640Z"
    }
   },
   "source": [
    "df_Matches['League'].value_counts()"
   ],
   "outputs": [
    {
     "data": {
      "text/plain": [
       "League\n",
       "Premier League         178\n",
       "English Div 2 (old)     14\n",
       "English League Cup       5\n",
       "FA Cup                   3\n",
       "Carling Cup              3\n",
       "English FA Cup           3\n",
       "Community Shield         2\n",
       "EFL Cup                  2\n",
       "English Premier          1\n",
       "Charity Shield           1\n",
       "Name: count, dtype: int64"
      ]
     },
     "execution_count": 16,
     "metadata": {},
     "output_type": "execute_result"
    }
   ],
   "execution_count": 16
  },
  {
   "cell_type": "code",
   "metadata": {
    "ExecuteTime": {
     "end_time": "2024-11-04T18:23:28.651432Z",
     "start_time": "2024-11-04T18:23:27.549017Z"
    }
   },
   "source": [
    "#Histogram plot of the number of leagues played \n",
    "sns.set_style('darkgrid')\n",
    "sns.set_context('paper', font_scale=2)\n",
    "g = sns.catplot(x='League', data=df_Matches, aspect=2.0, kind=\"count\")\n",
    "g.set_xticklabels(rotation=90)"
   ],
   "outputs": [
    {
     "data": {
      "text/plain": [
       "<seaborn.axisgrid.FacetGrid at 0x2a179807150>"
      ]
     },
     "execution_count": 17,
     "metadata": {},
     "output_type": "execute_result"
    },
    {
     "data": {
      "text/plain": [
       "<Figure size 1019.56x500 with 1 Axes>"
      ],
      "image/png": "[encoded data removed]"
     },
     "metadata": {},
     "output_type": "display_data"
    }
   ],
   "execution_count": 17
  },
  {
   "cell_type": "markdown",
   "metadata": {},
   "source": [
    "> We observed that Premier League has the highest number of matches played with 170 matches."
   ]
  },
  {
   "cell_type": "code",
   "metadata": {
    "ExecuteTime": {
     "end_time": "2024-11-04T18:23:32.807796Z",
     "start_time": "2024-11-04T18:23:32.793028Z"
    }
   },
   "source": [
    "#Replace 1 to Win and 0 to Loss in Home_Dummy_Score and Away_Dummy_Score\n",
    "df_Matches['Home_Dummy_Score'].replace({1: \"Win\", 0: \"Loss\"}, inplace=True)\n",
    "df_Matches['Away_Dummy_Score'].replace({1: \"Win\", 0: \"Loss\"}, inplace=True)"
   ],
   "outputs": [],
   "execution_count": 18
  },
  {
   "cell_type": "code",
   "metadata": {
    "ExecuteTime": {
     "end_time": "2024-11-04T18:23:33.583405Z",
     "start_time": "2024-11-04T18:23:33.551932Z"
    }
   },
   "source": [
    "#dataset header\n",
    "df_Matches.head()"
   ],
   "outputs": [
    {
     "data": {
      "text/plain": [
       "       Date_Time            League Home_Team Score Away_Team  Home_Score  \\\n",
       "0  Su 22Sep 2024   English Premier  Man City   2-2   Arsenal           2   \n",
       "1  Su 31Mar 2024    Premier League  Man City   0-0   Arsenal           0   \n",
       "2  Su 08Oct 2023    Premier League   Arsenal   1-0  Man City           1   \n",
       "3  Su 06Aug 2023  Community Shield   Arsenal   1-1  Man City           1   \n",
       "4  We 26Apr 2023    Premier League  Man City   4-1   Arsenal           4   \n",
       "\n",
       "   Away_Score Home_Dummy_Score Away_Dummy_Score  \n",
       "0           2              Win              Win  \n",
       "1           0              Win              Win  \n",
       "2           0              Win             Loss  \n",
       "3           1              Win              Win  \n",
       "4           1              Win             Loss  "
      ],
      "text/html": [
       "<div>\n",
       "<style scoped>\n",
       "    .dataframe tbody tr th:only-of-type {\n",
       "        vertical-align: middle;\n",
       "    }\n",
       "\n",
       "    .dataframe tbody tr th {\n",
       "        vertical-align: top;\n",
       "    }\n",
       "\n",
       "    .dataframe thead th {\n",
       "        text-align: right;\n",
       "    }\n",
       "</style>\n",
       "<table border=\"1\" class=\"dataframe\">\n",
       "  <thead>\n",
       "    <tr style=\"text-align: right;\">\n",
       "      <th></th>\n",
       "      <th>Date_Time</th>\n",
       "      <th>League</th>\n",
       "      <th>Home_Team</th>\n",
       "      <th>Score</th>\n",
       "      <th>Away_Team</th>\n",
       "      <th>Home_Score</th>\n",
       "      <th>Away_Score</th>\n",
       "      <th>Home_Dummy_Score</th>\n",
       "      <th>Away_Dummy_Score</th>\n",
       "    </tr>\n",
       "  </thead>\n",
       "  <tbody>\n",
       "    <tr>\n",
       "      <th>0</th>\n",
       "      <td>Su 22Sep 2024</td>\n",
       "      <td>English Premier</td>\n",
       "      <td>Man City</td>\n",
       "      <td>2-2</td>\n",
       "      <td>Arsenal</td>\n",
       "      <td>2</td>\n",
       "      <td>2</td>\n",
       "      <td>Win</td>\n",
       "      <td>Win</td>\n",
       "    </tr>\n",
       "    <tr>\n",
       "      <th>1</th>\n",
       "      <td>Su 31Mar 2024</td>\n",
       "      <td>Premier League</td>\n",
       "      <td>Man City</td>\n",
       "      <td>0-0</td>\n",
       "      <td>Arsenal</td>\n",
       "      <td>0</td>\n",
       "      <td>0</td>\n",
       "      <td>Win</td>\n",
       "      <td>Win</td>\n",
       "    </tr>\n",
       "    <tr>\n",
       "      <th>2</th>\n",
       "      <td>Su 08Oct 2023</td>\n",
       "      <td>Premier League</td>\n",
       "      <td>Arsenal</td>\n",
       "      <td>1-0</td>\n",
       "      <td>Man City</td>\n",
       "      <td>1</td>\n",
       "      <td>0</td>\n",
       "      <td>Win</td>\n",
       "      <td>Loss</td>\n",
       "    </tr>\n",
       "    <tr>\n",
       "      <th>3</th>\n",
       "      <td>Su 06Aug 2023</td>\n",
       "      <td>Community Shield</td>\n",
       "      <td>Arsenal</td>\n",
       "      <td>1-1</td>\n",
       "      <td>Man City</td>\n",
       "      <td>1</td>\n",
       "      <td>1</td>\n",
       "      <td>Win</td>\n",
       "      <td>Win</td>\n",
       "    </tr>\n",
       "    <tr>\n",
       "      <th>4</th>\n",
       "      <td>We 26Apr 2023</td>\n",
       "      <td>Premier League</td>\n",
       "      <td>Man City</td>\n",
       "      <td>4-1</td>\n",
       "      <td>Arsenal</td>\n",
       "      <td>4</td>\n",
       "      <td>1</td>\n",
       "      <td>Win</td>\n",
       "      <td>Loss</td>\n",
       "    </tr>\n",
       "  </tbody>\n",
       "</table>\n",
       "</div>"
      ]
     },
     "execution_count": 19,
     "metadata": {},
     "output_type": "execute_result"
    }
   ],
   "execution_count": 19
  },
  {
   "cell_type": "code",
   "metadata": {
    "ExecuteTime": {
     "end_time": "2024-11-04T18:23:35.471625Z",
     "start_time": "2024-11-04T18:23:35.455469Z"
    }
   },
   "source": [
    "#Calculate the number of Home and Away wins of Man City\n",
    "mancity_home_win = df_Matches.loc[(df_Matches['Home_Team'] == 'Man City') & \n",
    "                                     (df_Matches['Home_Dummy_Score'] == \"Win\")& \n",
    "                                     (df_Matches['Away_Dummy_Score'] == \"Loss\")].shape[0]\n",
    "\n",
    "mancity_away_win = df_Matches.loc[(df_Matches['Away_Team'] == 'Man City') & \n",
    "                                     (df_Matches['Away_Dummy_Score'] == \"Win\")\n",
    "                                 & (df_Matches['Home_Dummy_Score'] == \"Loss\")].shape[0]\n",
    "\n",
    "print(\"Man City won the total of {} matches at home and won the total of {} matches away\" \n",
    "      .format(mancity_home_win, mancity_away_win))"
   ],
   "outputs": [
    {
     "name": "stdout",
     "output_type": "stream",
     "text": [
      "Man City won the total of 41 matches at home and won the total of 24 matches away\n"
     ]
    }
   ],
   "execution_count": 20
  },
  {
   "cell_type": "code",
   "metadata": {
    "ExecuteTime": {
     "end_time": "2024-11-04T18:23:36.238934Z",
     "start_time": "2024-11-04T18:23:36.226425Z"
    }
   },
   "source": [
    "#Calculate the number of Home and Away wins of Arsenal\n",
    "arsenal_home_win= df_Matches.loc[(df_Matches['Home_Team'] == 'Arsenal') & \n",
    "                                 (df_Matches['Home_Dummy_Score'] == \"Win\")& \n",
    "                                (df_Matches['Away_Dummy_Score'] == \"Loss\")].shape[0]\n",
    "\n",
    "arsenal_away_win= df_Matches.loc[(df_Matches['Away_Team'] == 'Arsenal') & \n",
    "                                 (df_Matches['Away_Dummy_Score'] == \"Win\")& \n",
    "                                 (df_Matches['Home_Dummy_Score'] == \"Loss\")].shape[0]\n",
    "\n",
    "print(\"Arsenal won the total of {} matches at Home and won the total of {} matches away\" \n",
    "      .format(arsenal_home_win, arsenal_away_win))"
   ],
   "outputs": [
    {
     "name": "stdout",
     "output_type": "stream",
     "text": [
      "Arsenal won the total of 61 matches at Home and won the total of 38 matches away\n"
     ]
    }
   ],
   "execution_count": 21
  },
  {
   "cell_type": "code",
   "metadata": {
    "ExecuteTime": {
     "end_time": "2024-11-04T18:23:37.247307Z",
     "start_time": "2024-11-04T18:23:37.239199Z"
    }
   },
   "source": [
    "draw = df_Matches.loc[(df_Matches['Away_Dummy_Score'] == \"Win\")& \n",
    "                                                 (df_Matches['Home_Dummy_Score'] == \"Win\")].shape[0]\n",
    "print(\"The number of draw is. {}\".format(draw))"
   ],
   "outputs": [
    {
     "name": "stdout",
     "output_type": "stream",
     "text": [
      "The number of draw is. 48\n"
     ]
    }
   ],
   "execution_count": 22
  },
  {
   "cell_type": "code",
   "metadata": {
    "scrolled": true,
    "ExecuteTime": {
     "end_time": "2024-11-04T18:23:38.859903Z",
     "start_time": "2024-11-04T18:23:37.966133Z"
    }
   },
   "source": [
    "sns.set_style('darkgrid')\n",
    "sns.set_context('paper', font_scale=2)\n",
    "g = sns.catplot(x='Home_Team', data=df_Matches, aspect=3.0, kind=\"count\", hue='Home_Dummy_Score')"
   ],
   "outputs": [
    {
     "data": {
      "text/plain": [
       "<Figure size 1781.81x500 with 1 Axes>"
      ],
      "image/png": "[encoded data removed]"
     },
     "metadata": {},
     "output_type": "display_data"
    }
   ],
   "execution_count": 23
  },
  {
   "cell_type": "code",
   "metadata": {
    "scrolled": true,
    "ExecuteTime": {
     "end_time": "2024-11-04T18:23:39.578496Z",
     "start_time": "2024-11-04T18:23:38.861427Z"
    }
   },
   "source": [
    "sns.catplot(x='Away_Team', data=df_Matches, aspect=3.0, kind=\"count\", hue='Away_Dummy_Score')"
   ],
   "outputs": [
    {
     "data": {
      "text/plain": [
       "<seaborn.axisgrid.FacetGrid at 0x2a172c16e50>"
      ]
     },
     "execution_count": 24,
     "metadata": {},
     "output_type": "execute_result"
    },
    {
     "data": {
      "text/plain": [
       "<Figure size 1775.43x500 with 1 Axes>"
      ],
      "image/png": "[encoded data removed]"
     },
     "metadata": {},
     "output_type": "display_data"
    }
   ],
   "execution_count": 24
  },
  {
   "cell_type": "code",
   "metadata": {
    "ExecuteTime": {
     "end_time": "2024-11-04T18:23:40.782834Z",
     "start_time": "2024-11-04T18:23:40.775619Z"
    }
   },
   "source": [
    "# Total Number of Arsenal Wins\n",
    "Total_arsenal_wins = arsenal_away_win + arsenal_home_win\n",
    "\n",
    "# Total Man City wins\n",
    "Total_mancity_wins = mancity_away_win + mancity_home_win\n",
    "\n",
    "print(\"The total Arsenal wins is: {} while the total Man city win is: {}\" \n",
    "      .format(Total_arsenal_wins, Total_mancity_wins))"
   ],
   "outputs": [
    {
     "name": "stdout",
     "output_type": "stream",
     "text": [
      "The total Arsenal wins is: 99 while the total Man city win is: 65\n"
     ]
    }
   ],
   "execution_count": 25
  },
  {
   "cell_type": "markdown",
   "metadata": {},
   "source": [
    "> A few observation\n",
    " - We can see that Arsenal performed better than Man city in all matches played at home. Arsenal won a total of 59 games played at home while Mancity won the total of 37 games played at Home\n",
    " - We can observed that Arsenal performed well at Away game. Arsenal had  a total of 38 away games while Man city has a total of 20 away wins.\n",
    " - From the total from both Away and Home game, Arsenal perfomed better winning 97 games while Man City won 57 games.\n",
    " - They draw 45 of the matches played."
   ]
  },
  {
   "cell_type": "markdown",
   "metadata": {},
   "source": [
    "### Top 10 recent matches "
   ]
  },
  {
   "cell_type": "code",
   "metadata": {
    "ExecuteTime": {
     "end_time": "2024-11-04T18:23:42.973247Z",
     "start_time": "2024-11-04T18:23:42.958333Z"
    }
   },
   "source": [
    "#10 recent matches \n",
    "df_Matches.head(10)"
   ],
   "outputs": [
    {
     "data": {
      "text/plain": [
       "       Date_Time            League Home_Team Score Away_Team  Home_Score  \\\n",
       "0  Su 22Sep 2024   English Premier  Man City   2-2   Arsenal           2   \n",
       "1  Su 31Mar 2024    Premier League  Man City   0-0   Arsenal           0   \n",
       "2  Su 08Oct 2023    Premier League   Arsenal   1-0  Man City           1   \n",
       "3  Su 06Aug 2023  Community Shield   Arsenal   1-1  Man City           1   \n",
       "4  We 26Apr 2023    Premier League  Man City   4-1   Arsenal           4   \n",
       "5  We 15Feb 2023    Premier League   Arsenal   1-3  Man City           1   \n",
       "6  Fr 27Jan 2023            FA Cup  Man City   1-0   Arsenal           1   \n",
       "7  Sa 01Jan 2022    Premier League   Arsenal   1-2  Man City           1   \n",
       "8  Sa 28Aug 2021    Premier League  Man City   5-0   Arsenal           5   \n",
       "9  Su 21Feb 2021    Premier League   Arsenal   0-1  Man City           0   \n",
       "\n",
       "   Away_Score Home_Dummy_Score Away_Dummy_Score  \n",
       "0           2              Win              Win  \n",
       "1           0              Win              Win  \n",
       "2           0              Win             Loss  \n",
       "3           1              Win              Win  \n",
       "4           1              Win             Loss  \n",
       "5           3             Loss              Win  \n",
       "6           0              Win             Loss  \n",
       "7           2             Loss              Win  \n",
       "8           0              Win             Loss  \n",
       "9           1             Loss              Win  "
      ],
      "text/html": [
       "<div>\n",
       "<style scoped>\n",
       "    .dataframe tbody tr th:only-of-type {\n",
       "        vertical-align: middle;\n",
       "    }\n",
       "\n",
       "    .dataframe tbody tr th {\n",
       "        vertical-align: top;\n",
       "    }\n",
       "\n",
       "    .dataframe thead th {\n",
       "        text-align: right;\n",
       "    }\n",
       "</style>\n",
       "<table border=\"1\" class=\"dataframe\">\n",
       "  <thead>\n",
       "    <tr style=\"text-align: right;\">\n",
       "      <th></th>\n",
       "      <th>Date_Time</th>\n",
       "      <th>League</th>\n",
       "      <th>Home_Team</th>\n",
       "      <th>Score</th>\n",
       "      <th>Away_Team</th>\n",
       "      <th>Home_Score</th>\n",
       "      <th>Away_Score</th>\n",
       "      <th>Home_Dummy_Score</th>\n",
       "      <th>Away_Dummy_Score</th>\n",
       "    </tr>\n",
       "  </thead>\n",
       "  <tbody>\n",
       "    <tr>\n",
       "      <th>0</th>\n",
       "      <td>Su 22Sep 2024</td>\n",
       "      <td>English Premier</td>\n",
       "      <td>Man City</td>\n",
       "      <td>2-2</td>\n",
       "      <td>Arsenal</td>\n",
       "      <td>2</td>\n",
       "      <td>2</td>\n",
       "      <td>Win</td>\n",
       "      <td>Win</td>\n",
       "    </tr>\n",
       "    <tr>\n",
       "      <th>1</th>\n",
       "      <td>Su 31Mar 2024</td>\n",
       "      <td>Premier League</td>\n",
       "      <td>Man City</td>\n",
       "      <td>0-0</td>\n",
       "      <td>Arsenal</td>\n",
       "      <td>0</td>\n",
       "      <td>0</td>\n",
       "      <td>Win</td>\n",
       "      <td>Win</td>\n",
       "    </tr>\n",
       "    <tr>\n",
       "      <th>2</th>\n",
       "      <td>Su 08Oct 2023</td>\n",
       "      <td>Premier League</td>\n",
       "      <td>Arsenal</td>\n",
       "      <td>1-0</td>\n",
       "      <td>Man City</td>\n",
       "      <td>1</td>\n",
       "      <td>0</td>\n",
       "      <td>Win</td>\n",
       "      <td>Loss</td>\n",
       "    </tr>\n",
       "    <tr>\n",
       "      <th>3</th>\n",
       "      <td>Su 06Aug 2023</td>\n",
       "      <td>Community Shield</td>\n",
       "      <td>Arsenal</td>\n",
       "      <td>1-1</td>\n",
       "      <td>Man City</td>\n",
       "      <td>1</td>\n",
       "      <td>1</td>\n",
       "      <td>Win</td>\n",
       "      <td>Win</td>\n",
       "    </tr>\n",
       "    <tr>\n",
       "      <th>4</th>\n",
       "      <td>We 26Apr 2023</td>\n",
       "      <td>Premier League</td>\n",
       "      <td>Man City</td>\n",
       "      <td>4-1</td>\n",
       "      <td>Arsenal</td>\n",
       "      <td>4</td>\n",
       "      <td>1</td>\n",
       "      <td>Win</td>\n",
       "      <td>Loss</td>\n",
       "    </tr>\n",
       "    <tr>\n",
       "      <th>5</th>\n",
       "      <td>We 15Feb 2023</td>\n",
       "      <td>Premier League</td>\n",
       "      <td>Arsenal</td>\n",
       "      <td>1-3</td>\n",
       "      <td>Man City</td>\n",
       "      <td>1</td>\n",
       "      <td>3</td>\n",
       "      <td>Loss</td>\n",
       "      <td>Win</td>\n",
       "    </tr>\n",
       "    <tr>\n",
       "      <th>6</th>\n",
       "      <td>Fr 27Jan 2023</td>\n",
       "      <td>FA Cup</td>\n",
       "      <td>Man City</td>\n",
       "      <td>1-0</td>\n",
       "      <td>Arsenal</td>\n",
       "      <td>1</td>\n",
       "      <td>0</td>\n",
       "      <td>Win</td>\n",
       "      <td>Loss</td>\n",
       "    </tr>\n",
       "    <tr>\n",
       "      <th>7</th>\n",
       "      <td>Sa 01Jan 2022</td>\n",
       "      <td>Premier League</td>\n",
       "      <td>Arsenal</td>\n",
       "      <td>1-2</td>\n",
       "      <td>Man City</td>\n",
       "      <td>1</td>\n",
       "      <td>2</td>\n",
       "      <td>Loss</td>\n",
       "      <td>Win</td>\n",
       "    </tr>\n",
       "    <tr>\n",
       "      <th>8</th>\n",
       "      <td>Sa 28Aug 2021</td>\n",
       "      <td>Premier League</td>\n",
       "      <td>Man City</td>\n",
       "      <td>5-0</td>\n",
       "      <td>Arsenal</td>\n",
       "      <td>5</td>\n",
       "      <td>0</td>\n",
       "      <td>Win</td>\n",
       "      <td>Loss</td>\n",
       "    </tr>\n",
       "    <tr>\n",
       "      <th>9</th>\n",
       "      <td>Su 21Feb 2021</td>\n",
       "      <td>Premier League</td>\n",
       "      <td>Arsenal</td>\n",
       "      <td>0-1</td>\n",
       "      <td>Man City</td>\n",
       "      <td>0</td>\n",
       "      <td>1</td>\n",
       "      <td>Loss</td>\n",
       "      <td>Win</td>\n",
       "    </tr>\n",
       "  </tbody>\n",
       "</table>\n",
       "</div>"
      ]
     },
     "execution_count": 26,
     "metadata": {},
     "output_type": "execute_result"
    }
   ],
   "execution_count": 26
  },
  {
   "cell_type": "code",
   "metadata": {
    "ExecuteTime": {
     "end_time": "2024-11-04T18:23:43.994641Z",
     "start_time": "2024-11-04T18:23:43.980865Z"
    }
   },
   "source": [
    "#Calculate the number of Home and Away wins of Man City\n",
    "latest_mancity_home_win = df_Matches.head(10).loc[(df_Matches['Home_Team'] == 'Man City') & \n",
    "                                                 (df_Matches['Home_Dummy_Score'] == \"Win\") & \n",
    "                                                 (df_Matches['Away_Dummy_Score'] == \"Loss\") ].shape[0]\n",
    "\n",
    "latest_mancity_away_win = df_Matches.head(10).loc[(df_Matches['Away_Team'] == 'Man City') & \n",
    "                                                 (df_Matches['Away_Dummy_Score'] == \"Win\") & \n",
    "                                                 (df_Matches['Home_Dummy_Score'] == \"Loss\")].shape[0]\n",
    "\n",
    "print(\"Man City won the total of {} matches at home and won the total of {} matches away\" \n",
    "      .format(latest_mancity_home_win, latest_mancity_away_win))"
   ],
   "outputs": [
    {
     "name": "stdout",
     "output_type": "stream",
     "text": [
      "Man City won the total of 3 matches at home and won the total of 3 matches away\n"
     ]
    }
   ],
   "execution_count": 27
  },
  {
   "cell_type": "code",
   "metadata": {
    "ExecuteTime": {
     "end_time": "2024-11-04T18:23:44.777298Z",
     "start_time": "2024-11-04T18:23:44.765280Z"
    }
   },
   "source": [
    "#Calculate the number of Home and Away wins of Arsenal\n",
    "latest_arsenal_home_win = df_Matches.head(10).loc[(df_Matches['Home_Team'] == 'Arsenal') & \n",
    "                                                  (df_Matches['Home_Dummy_Score'] == \"Win\")& \n",
    "                                                 (df_Matches['Away_Dummy_Score'] == \"Loss\") ].shape[0]\n",
    "\n",
    "latest_arsenal_away_win = df_Matches.head(10).loc[(df_Matches['Away_Team'] == 'Arsenal') & \n",
    "                                                  (df_Matches['Away_Dummy_Score'] == \"Win\")& \n",
    "                                                 (df_Matches['Home_Dummy_Score'] == \"Loss\")].shape[0]\n",
    "\n",
    "print(\"Arsenal won the total of {} matches at Home and won the total of {} matches away\" \n",
    "      .format(latest_arsenal_home_win, latest_arsenal_away_win))"
   ],
   "outputs": [
    {
     "name": "stdout",
     "output_type": "stream",
     "text": [
      "Arsenal won the total of 1 matches at Home and won the total of 0 matches away\n"
     ]
    }
   ],
   "execution_count": 28
  },
  {
   "cell_type": "code",
   "metadata": {
    "ExecuteTime": {
     "end_time": "2024-11-04T18:23:45.538168Z",
     "start_time": "2024-11-04T18:23:45.524807Z"
    }
   },
   "source": [
    "#the number of draw\n",
    "latest_draw = df_Matches.head(10).loc[(df_Matches['Away_Dummy_Score'] == \"Win\")& \n",
    "                                                 (df_Matches['Home_Dummy_Score'] == \"Win\")].shape[0]\n",
    "print(\"The number of draw is {}\".format(latest_draw))"
   ],
   "outputs": [
    {
     "name": "stdout",
     "output_type": "stream",
     "text": [
      "The number of draw is 3\n"
     ]
    }
   ],
   "execution_count": 29
  },
  {
   "cell_type": "code",
   "metadata": {
    "ExecuteTime": {
     "end_time": "2024-11-04T18:23:47.065519Z",
     "start_time": "2024-11-04T18:23:46.217319Z"
    }
   },
   "source": [
    "sns.set_style('darkgrid')\n",
    "sns.set_context('paper', font_scale=2)\n",
    "g = sns.catplot(x='Home_Team', data=df_Matches.head(10), aspect=3.0, kind=\"count\", hue='Home_Dummy_Score')"
   ],
   "outputs": [
    {
     "data": {
      "text/plain": [
       "<Figure size 1781.81x500 with 1 Axes>"
      ],
      "image/png": "[encoded data removed]"
     },
     "metadata": {},
     "output_type": "display_data"
    }
   ],
   "execution_count": 30
  },
  {
   "cell_type": "code",
   "metadata": {
    "ExecuteTime": {
     "end_time": "2024-11-04T18:23:47.959301Z",
     "start_time": "2024-11-04T18:23:47.069166Z"
    }
   },
   "source": [
    "sns.set_style('darkgrid')\n",
    "sns.set_context('paper', font_scale=2)\n",
    "g = sns.catplot(x='Away_Team', data=df_Matches.head(10), aspect=3.0, kind=\"count\", hue='Away_Dummy_Score')"
   ],
   "outputs": [
    {
     "data": {
      "text/plain": [
       "<Figure size 1775.43x500 with 1 Axes>"
      ],
      "image/png": "[encoded data removed]"
     },
     "metadata": {},
     "output_type": "display_data"
    }
   ],
   "execution_count": 31
  },
  {
   "cell_type": "code",
   "metadata": {
    "ExecuteTime": {
     "end_time": "2024-11-04T18:23:47.972658Z",
     "start_time": "2024-11-04T18:23:47.962324Z"
    }
   },
   "source": [
    "#Total wins \n",
    "Total_arsenal_latest_win = latest_arsenal_away_win + latest_arsenal_home_win\n",
    "\n",
    "Total_mancity_latest_win = latest_mancity_away_win + latest_mancity_home_win\n",
    "\n",
    "print(\"The total Arsenal wins is: {} while the total Man city win is: {} while we have {} draw in their last 10 matches\" \n",
    "      .format(Total_arsenal_latest_win, Total_mancity_latest_win, latest_draw))"
   ],
   "outputs": [
    {
     "name": "stdout",
     "output_type": "stream",
     "text": [
      "The total Arsenal wins is: 1 while the total Man city win is: 6 while we have 3 draw in their last 10 matches\n"
     ]
    }
   ],
   "execution_count": 32
  },
  {
   "cell_type": "markdown",
   "metadata": {},
   "source": [
    "> A few observation\n",
    " - We can see that Man City performed better than Arsenal in all matches played at home. Man City won a total of 4 games played at home while Arsenal won the total of 1 games played at Home\n",
    " - We can observed that Man City performed well at Away game. Arsenal had  a total of 0 away games while Man city has a total of 4 away wins.\n",
    " - From the total from both Away and Home game, Man City perfomed better winning 8 games while Arsenal won 1 games and they draw 1 game in the last 10 matches."
   ]
  },
  {
   "metadata": {},
   "cell_type": "code",
   "outputs": [],
   "execution_count": null,
   "source": ""
  }
 ],
 "metadata": {
  "kernelspec": {
   "display_name": "Python 3",
   "language": "python",
   "name": "python3"
  },
  "language_info": {
   "codemirror_mode": {
    "name": "ipython",
    "version": 3
   },
   "file_extension": ".py",
   "mimetype": "text/x-python",
   "name": "python",
   "nbconvert_exporter": "python",
   "pygments_lexer": "ipython3",
   "version": "3.6.4"
  }
 },
 "nbformat": 4,
 "nbformat_minor": 2
}
